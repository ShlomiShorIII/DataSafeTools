{
  "cells": [
    {
      "cell_type": "code",
      "execution_count": 4,
      "metadata": {
        "id": "h-TaU8UDDjZ5"
      },
      "outputs": [],
      "source": [
        "alphabet = ['a', 'b', 'c', 'd', 'e', 'f', 'g', 'h', 'i', 'j', 'k', 'l', 'm', 'n', 'o', 'p', 'q', 'r', 's', 't', 'u',\n",
        "            'v', 'w', 'x', 'y', 'z']"
      ]
    },
    {
      "cell_type": "code",
      "execution_count": 5,
      "metadata": {
        "id": "MYwKLVhBVJsL"
      },
      "outputs": [],
      "source": [
        "def decrypt(original_text, shift_amount):\n",
        "  new_code = \"\"\n",
        "  for char in original_text:\n",
        "    if char in alphabet:\n",
        "      position = alphabet.index(char)\n",
        "      new_position = (position - shift_amount) % 26\n",
        "      new_char = alphabet[new_position]\n",
        "      new_code += new_char\n",
        "    else:\n",
        "      new_code += char\n",
        "  print(f\"The decoded code is {new_code}\")\n",
        "\n",
        "def encrypt(original_text, shift_amount):\n",
        "  new_code = \"\"\n",
        "  for char in original_text:\n",
        "    if char in alphabet:\n",
        "      position = alphabet.index(char)\n",
        "      new_position = (position + shift_amount) % 26\n",
        "      new_char = alphabet[new_position]\n",
        "      new_code += new_char\n",
        "    else:\n",
        "      new_code += char\n",
        "  print(f\"The encoded code is {new_code}\")\n",
        "\n",
        "def caesar(original_text, shift_amount, encode_or_decode):\n",
        "  if encode_or_decode == 'encode':\n",
        "    encrypt(original_text = text, shift_amount = shift)\n",
        "  elif encode_or_decode == 'decode':\n",
        "    decrypt(original_text=text, shift_amount=shift)\n",
        "  else:\n",
        "    print(\"Invalid action. Please type 'encode' or 'decode'.\")\n"
      ]
    },
    {
      "cell_type": "code",
      "source": [
        "should_continue = True\n",
        "\n",
        "while should_continue:\n",
        "\n",
        "  direction = input(\"Type 'encode' to encrypt, type 'decode' to decrypt:\\n\").lower()\n",
        "\n",
        "  while direction not in ['encode', 'decode']:\n",
        "        print(\"Invalid input. Please try again.\")\n",
        "        direction = input(\"Type 'encode' to encrypt, type 'decode' to decrypt:\\n\").lower()\n",
        "\n",
        "  text = input(\"Type your message:\\n\").lower()\n",
        "  shift = int(input(\"Type the shift number:\\n\"))\n",
        "\n",
        "  caesar(text, shift, direction)\n",
        "\n",
        "  restart = input(\"Type 'yes' if you want to go again. Otherwise, type 'no':\\n\").lower()\n",
        "  if restart == \"no\":\n",
        "    should_continue = False\n",
        "    print(\"Goodbye\")"
      ],
      "metadata": {
        "colab": {
          "base_uri": "https://localhost:8080/"
        },
        "id": "bZs3_H-jwgL3",
        "outputId": "c8992d7b-d355-42fc-82b7-382640ab4260"
      },
      "execution_count": 6,
      "outputs": [
        {
          "output_type": "stream",
          "name": "stdout",
          "text": [
            "Type 'encode' to encrypt, type 'decode' to decrypt:\n",
            "encode\n",
            "Type your message:\n",
            "rtee1\n",
            "Type the shift number:\n",
            "2\n",
            "The encoded code is tvgg1\n",
            "Type 'yes' if you want to go again. Otherwise, type 'no':\n",
            "no\n",
            "Goodbye\n"
          ]
        }
      ]
    }
  ],
  "metadata": {
    "colab": {
      "provenance": []
    },
    "kernelspec": {
      "display_name": "Python 3",
      "name": "python3"
    },
    "language_info": {
      "name": "python"
    }
  },
  "nbformat": 4,
  "nbformat_minor": 0
}