{
  "nbformat": 4,
  "nbformat_minor": 0,
  "metadata": {
    "colab": {
      "provenance": []
    },
    "kernelspec": {
      "name": "python3",
      "display_name": "Python 3"
    },
    "language_info": {
      "name": "python"
    }
  },
  "cells": [
    {
      "cell_type": "code",
      "execution_count": 3,
      "metadata": {
        "id": "h-TaU8UDDjZ5"
      },
      "outputs": [],
      "source": [
        "alphabet = ['a', 'b', 'c', 'd', 'e', 'f', 'g', 'h', 'i', 'j', 'k', 'l', 'm', 'n', 'o', 'p', 'q', 'r', 's', 't', 'u',\n",
        "            'v', 'w', 'x', 'y', 'z']"
      ]
    },
    {
      "cell_type": "code",
      "source": [
        "while True:\n",
        "  direction = input(\"Type 'encode' to encrypt, type 'decode' to decrypt:\\n\").lower()\n",
        "  if direction in ['encode', 'decode']:\n",
        "    break\n",
        "  else:\n",
        "    print(\"Invalid input. Please try again.\")\n",
        "\n",
        "text = input(\"Please Input Your Code:\\n\").lower()\n",
        "shift = int(input(\"Type the shift number:\\n\"))\n",
        "\n",
        "def decrypt(original_text, shift_amount):\n",
        "  new_code = \"\"\n",
        "  for char in original_text:\n",
        "    if char in alphabet:\n",
        "      position = alphabet.index(char)\n",
        "      new_position = (position - shift_amount) % 26\n",
        "      new_char = alphabet[new_position]\n",
        "      new_code += new_char\n",
        "    else:\n",
        "      new_code += char\n",
        "  print(f\"The decoded code is {new_code}\")\n",
        "\n",
        "def encrypt(original_text, shift_amount):\n",
        "  new_code = \"\"\n",
        "  for char in original_text:\n",
        "    if char in alphabet:\n",
        "      position = alphabet.index(char)\n",
        "      new_position = (position + shift_amount) % 26\n",
        "      new_char = alphabet[new_position]\n",
        "      new_code += new_char\n",
        "    else:\n",
        "      new_code += char\n",
        "  print(f\"The encoded code is {new_code}\")\n",
        "\n",
        "def caesar(original_text, shift_amount, encode_or_decode):\n",
        "  if direction == 'encode':\n",
        "    encrypt(original_text = text, shift_amount = shift)\n",
        "  elif direction == 'decode':\n",
        "    decrypt(original_text=text, shift_amount=shift)\n",
        "\n",
        "caesar(text, shift, direction)\n",
        "\n",
        "should_continue = True\n",
        "\n",
        "while should_continue:\n",
        "\n",
        "  direction = input(\"Type 'encode' to encrypt, type 'decode' to decrypt:\\n\").lower()\n",
        "  text = input(\"Type your message:\\n\").lower()\n",
        "  shift = int(input(\"Type the shift number:\\n\"))\n",
        "\n",
        "  caesar(text, shift, direction)\n",
        "\n",
        "  restart = input(\"Type 'yes' if you want to go again. Otherwise, type 'no':\\n\").lower()\n",
        "  if restart == \"no\":\n",
        "    should_continue = False\n",
        "    print(\"Goodbye\")"
      ],
      "metadata": {
        "colab": {
          "base_uri": "https://localhost:8080/"
        },
        "id": "MYwKLVhBVJsL",
        "outputId": "1f5815d8-9563-4506-db66-8b8c7e093e43"
      },
      "execution_count": 14,
      "outputs": [
        {
          "output_type": "stream",
          "name": "stdout",
          "text": [
            "Type 'encode' to encrypt, type 'decode' to decrypt:\n",
            "encode\n",
            "Please Input Your Code:\n",
            "3 @AA\n",
            "Type the shift number:\n",
            "1\n",
            "The encoded code is 3 @bb\n",
            "Type 'encode' to encrypt, type 'decode' to decrypt:\n",
            "encode\n",
            "Type your message:\n",
            "A2@ 5DE\n",
            "Type the shift number:\n",
            "1\n",
            "The encoded code is b2@ 5ef\n",
            "Type 'yes' if you want to go again. Otherwise, type 'no':\n",
            "NO\n",
            "Goodbye\n"
          ]
        }
      ]
    }
  ]
}